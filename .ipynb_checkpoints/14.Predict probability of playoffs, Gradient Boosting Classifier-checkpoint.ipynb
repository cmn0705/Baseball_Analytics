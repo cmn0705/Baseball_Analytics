{
 "cells": [
  {
   "cell_type": "markdown",
   "metadata": {},
   "source": [
    "# Gradient Boosting Classifier"
   ]
  },
  {
   "cell_type": "markdown",
   "metadata": {},
   "source": [
    "##### Predict the probability of playoffs"
   ]
  },
  {
   "cell_type": "code",
   "execution_count": 1,
   "metadata": {},
   "outputs": [
    {
     "data": {
      "text/html": [
       "<div>\n",
       "<style scoped>\n",
       "    .dataframe tbody tr th:only-of-type {\n",
       "        vertical-align: middle;\n",
       "    }\n",
       "\n",
       "    .dataframe tbody tr th {\n",
       "        vertical-align: top;\n",
       "    }\n",
       "\n",
       "    .dataframe thead th {\n",
       "        text-align: right;\n",
       "    }\n",
       "</style>\n",
       "<table border=\"1\" class=\"dataframe\">\n",
       "  <thead>\n",
       "    <tr style=\"text-align: right;\">\n",
       "      <th></th>\n",
       "      <th>Team</th>\n",
       "      <th>League</th>\n",
       "      <th>Year</th>\n",
       "      <th>RunsScored</th>\n",
       "      <th>RunsAllowed</th>\n",
       "      <th>Wins</th>\n",
       "      <th>OnBasePercentage</th>\n",
       "      <th>SluggingPercentage</th>\n",
       "      <th>BattingAverage</th>\n",
       "      <th>Playoffs</th>\n",
       "      <th>RankSeason</th>\n",
       "      <th>RankPlayoffs</th>\n",
       "      <th>GamesPlayed</th>\n",
       "      <th>OpponentOnBasePercentage</th>\n",
       "      <th>OpponentSluggingPercentage</th>\n",
       "    </tr>\n",
       "  </thead>\n",
       "  <tbody>\n",
       "    <tr>\n",
       "      <th>415</th>\n",
       "      <td>SFG</td>\n",
       "      <td>NL</td>\n",
       "      <td>1999</td>\n",
       "      <td>872</td>\n",
       "      <td>831</td>\n",
       "      <td>86</td>\n",
       "      <td>0.356</td>\n",
       "      <td>0.434</td>\n",
       "      <td>0.271</td>\n",
       "      <td>0</td>\n",
       "      <td>NaN</td>\n",
       "      <td>NaN</td>\n",
       "      <td>162</td>\n",
       "      <td>0.345</td>\n",
       "      <td>0.423</td>\n",
       "    </tr>\n",
       "    <tr>\n",
       "      <th>416</th>\n",
       "      <td>STL</td>\n",
       "      <td>NL</td>\n",
       "      <td>1999</td>\n",
       "      <td>809</td>\n",
       "      <td>838</td>\n",
       "      <td>75</td>\n",
       "      <td>0.338</td>\n",
       "      <td>0.426</td>\n",
       "      <td>0.262</td>\n",
       "      <td>0</td>\n",
       "      <td>NaN</td>\n",
       "      <td>NaN</td>\n",
       "      <td>161</td>\n",
       "      <td>0.355</td>\n",
       "      <td>0.427</td>\n",
       "    </tr>\n",
       "    <tr>\n",
       "      <th>417</th>\n",
       "      <td>TBD</td>\n",
       "      <td>AL</td>\n",
       "      <td>1999</td>\n",
       "      <td>772</td>\n",
       "      <td>913</td>\n",
       "      <td>69</td>\n",
       "      <td>0.343</td>\n",
       "      <td>0.411</td>\n",
       "      <td>0.274</td>\n",
       "      <td>0</td>\n",
       "      <td>NaN</td>\n",
       "      <td>NaN</td>\n",
       "      <td>162</td>\n",
       "      <td>0.371</td>\n",
       "      <td>0.448</td>\n",
       "    </tr>\n",
       "    <tr>\n",
       "      <th>418</th>\n",
       "      <td>TEX</td>\n",
       "      <td>AL</td>\n",
       "      <td>1999</td>\n",
       "      <td>945</td>\n",
       "      <td>859</td>\n",
       "      <td>95</td>\n",
       "      <td>0.361</td>\n",
       "      <td>0.479</td>\n",
       "      <td>0.293</td>\n",
       "      <td>1</td>\n",
       "      <td>5.0</td>\n",
       "      <td>4.0</td>\n",
       "      <td>162</td>\n",
       "      <td>0.346</td>\n",
       "      <td>0.459</td>\n",
       "    </tr>\n",
       "    <tr>\n",
       "      <th>419</th>\n",
       "      <td>TOR</td>\n",
       "      <td>AL</td>\n",
       "      <td>1999</td>\n",
       "      <td>883</td>\n",
       "      <td>862</td>\n",
       "      <td>84</td>\n",
       "      <td>0.352</td>\n",
       "      <td>0.457</td>\n",
       "      <td>0.280</td>\n",
       "      <td>0</td>\n",
       "      <td>NaN</td>\n",
       "      <td>NaN</td>\n",
       "      <td>162</td>\n",
       "      <td>0.353</td>\n",
       "      <td>0.456</td>\n",
       "    </tr>\n",
       "  </tbody>\n",
       "</table>\n",
       "</div>"
      ],
      "text/plain": [
       "    Team League  Year  RunsScored  RunsAllowed  Wins  OnBasePercentage  \\\n",
       "415  SFG     NL  1999         872          831    86             0.356   \n",
       "416  STL     NL  1999         809          838    75             0.338   \n",
       "417  TBD     AL  1999         772          913    69             0.343   \n",
       "418  TEX     AL  1999         945          859    95             0.361   \n",
       "419  TOR     AL  1999         883          862    84             0.352   \n",
       "\n",
       "     SluggingPercentage  BattingAverage  Playoffs  RankSeason  RankPlayoffs  \\\n",
       "415               0.434           0.271         0         NaN           NaN   \n",
       "416               0.426           0.262         0         NaN           NaN   \n",
       "417               0.411           0.274         0         NaN           NaN   \n",
       "418               0.479           0.293         1         5.0           4.0   \n",
       "419               0.457           0.280         0         NaN           NaN   \n",
       "\n",
       "     GamesPlayed  OpponentOnBasePercentage  OpponentSluggingPercentage  \n",
       "415          162                     0.345                       0.423  \n",
       "416          161                     0.355                       0.427  \n",
       "417          162                     0.371                       0.448  \n",
       "418          162                     0.346                       0.459  \n",
       "419          162                     0.353                       0.456  "
      ]
     },
     "execution_count": 1,
     "metadata": {},
     "output_type": "execute_result"
    }
   ],
   "source": [
    "# Read data from file\n",
    "import pandas as pd\n",
    "df=pd.read_csv('baseball.csv').dropna(subset=['OpponentOnBasePercentage', 'OpponentSluggingPercentage'])\n",
    "df.tail()"
   ]
  },
  {
   "cell_type": "code",
   "execution_count": 2,
   "metadata": {},
   "outputs": [],
   "source": [
    "from sklearn.model_selection import train_test_split\n",
    "X=df[['OnBasePercentage','SluggingPercentage','BattingAverage','OpponentOnBasePercentage', 'OpponentSluggingPercentage']]\n",
    "y=df['Playoffs']\n",
    "X_train, X_test, y_train, y_test = train_test_split(X, y, random_state=3)"
   ]
  },
  {
   "cell_type": "code",
   "execution_count": 3,
   "metadata": {},
   "outputs": [
    {
     "name": "stderr",
     "output_type": "stream",
     "text": [
      "/anaconda3/lib/python3.7/site-packages/sklearn/ensemble/weight_boosting.py:29: DeprecationWarning: numpy.core.umath_tests is an internal NumPy module and should not be imported. It will be removed in a future NumPy release.\n",
      "  from numpy.core.umath_tests import inner1d\n"
     ]
    },
    {
     "data": {
      "text/plain": [
       "array([0.07964103, 0.66947285, 0.00503277, 0.13421641, 0.10008669,\n",
       "       0.93505979, 0.82177546, 0.65683089, 0.00989055, 0.00957791,\n",
       "       0.01580579, 0.00220686, 0.00265218, 0.87847802, 0.88293032,\n",
       "       0.80750732, 0.0064103 , 0.0036135 , 0.91791833, 0.61335399,\n",
       "       0.00205194, 0.1967871 , 0.02957383, 0.0037193 , 0.00721609,\n",
       "       0.0037609 , 0.00960193, 0.01863771, 0.0235653 , 0.01189603,\n",
       "       0.00706451, 0.13033345, 0.0024937 , 0.85031219, 0.00807757,\n",
       "       0.00515389, 0.00375842, 0.15275648, 0.033417  , 0.00459092,\n",
       "       0.01245565, 0.00411191, 0.00637049, 0.0100725 , 0.00306627,\n",
       "       0.00156531, 0.52006811, 0.00425825, 0.10854263, 0.00205541,\n",
       "       0.75384255, 0.09906264, 0.089261  , 0.03228945, 0.00237898,\n",
       "       0.07088908, 0.02611012, 0.040556  , 0.47583009, 0.01743981,\n",
       "       0.02611662, 0.01124422, 0.73030208, 0.1474835 , 0.02989153,\n",
       "       0.9491183 , 0.20217557, 0.0195554 , 0.00469168, 0.00459655,\n",
       "       0.00275865, 0.04022938, 0.95156245, 0.00852061, 0.08809502,\n",
       "       0.025457  , 0.96284538, 0.69423876, 0.58857352, 0.6124927 ,\n",
       "       0.45699035, 0.77820217, 0.00402531, 0.01487499, 0.01706447,\n",
       "       0.00926931, 0.00332619, 0.04056897, 0.38120543, 0.87452731,\n",
       "       0.00719056, 0.03035026, 0.00275865, 0.6955988 , 0.01358769,\n",
       "       0.06098743, 0.01233139, 0.0464458 , 0.02251478, 0.5816842 ,\n",
       "       0.84535025, 0.00433042, 0.49365132, 0.00719056, 0.74515274])"
      ]
     },
     "execution_count": 3,
     "metadata": {},
     "output_type": "execute_result"
    }
   ],
   "source": [
    "import pandas as pd\n",
    "from sklearn.ensemble import GradientBoostingClassifier\n",
    "from sklearn.model_selection import train_test_split\n",
    "\n",
    "clf = GradientBoostingClassifier().fit(X_train, y_train)\n",
    "playoffProbability_predicts=clf.predict_proba(X_test)[:,1] \n",
    "playoffProbability_predicts"
   ]
  },
  {
   "cell_type": "code",
   "execution_count": 4,
   "metadata": {},
   "outputs": [
    {
     "data": {
      "text/plain": [
       "0.8666666666666667"
      ]
     },
     "execution_count": 4,
     "metadata": {},
     "output_type": "execute_result"
    }
   ],
   "source": [
    "clf.score(X_test,y_test)"
   ]
  }
 ],
 "metadata": {
  "kernelspec": {
   "display_name": "Python 3",
   "language": "python",
   "name": "python3"
  },
  "language_info": {
   "codemirror_mode": {
    "name": "ipython",
    "version": 3
   },
   "file_extension": ".py",
   "mimetype": "text/x-python",
   "name": "python",
   "nbconvert_exporter": "python",
   "pygments_lexer": "ipython3",
   "version": "3.7.0"
  },
  "toc": {
   "base_numbering": 1,
   "nav_menu": {},
   "number_sections": true,
   "sideBar": true,
   "skip_h1_title": false,
   "title_cell": "Table of Contents",
   "title_sidebar": "Contents",
   "toc_cell": false,
   "toc_position": {},
   "toc_section_display": true,
   "toc_window_display": false
  }
 },
 "nbformat": 4,
 "nbformat_minor": 2
}
