{
 "cells": [
  {
   "cell_type": "markdown",
   "metadata": {},
   "source": [
    "# Regression"
   ]
  },
  {
   "cell_type": "code",
   "execution_count": 139,
   "metadata": {},
   "outputs": [
    {
     "data": {
      "text/html": [
       "<div>\n",
       "<style scoped>\n",
       "    .dataframe tbody tr th:only-of-type {\n",
       "        vertical-align: middle;\n",
       "    }\n",
       "\n",
       "    .dataframe tbody tr th {\n",
       "        vertical-align: top;\n",
       "    }\n",
       "\n",
       "    .dataframe thead th {\n",
       "        text-align: right;\n",
       "    }\n",
       "</style>\n",
       "<table border=\"1\" class=\"dataframe\">\n",
       "  <thead>\n",
       "    <tr style=\"text-align: right;\">\n",
       "      <th></th>\n",
       "      <th>Team</th>\n",
       "      <th>League</th>\n",
       "      <th>Year</th>\n",
       "      <th>RunsScored</th>\n",
       "      <th>RunsAllowed</th>\n",
       "      <th>Wins</th>\n",
       "      <th>OnBasePercentage</th>\n",
       "      <th>SluggingPercentage</th>\n",
       "      <th>BattingAverage</th>\n",
       "      <th>Playoffs</th>\n",
       "      <th>RankSeason</th>\n",
       "      <th>RankPlayoffs</th>\n",
       "      <th>GamesPlayed</th>\n",
       "      <th>OpponentOnBasePercentage</th>\n",
       "      <th>OpponentSluggingPercentage</th>\n",
       "    </tr>\n",
       "  </thead>\n",
       "  <tbody>\n",
       "    <tr>\n",
       "      <th>415</th>\n",
       "      <td>SFG</td>\n",
       "      <td>NL</td>\n",
       "      <td>1999</td>\n",
       "      <td>872</td>\n",
       "      <td>831</td>\n",
       "      <td>86</td>\n",
       "      <td>0.356</td>\n",
       "      <td>0.434</td>\n",
       "      <td>0.271</td>\n",
       "      <td>0</td>\n",
       "      <td>NaN</td>\n",
       "      <td>NaN</td>\n",
       "      <td>162</td>\n",
       "      <td>0.345</td>\n",
       "      <td>0.423</td>\n",
       "    </tr>\n",
       "    <tr>\n",
       "      <th>416</th>\n",
       "      <td>STL</td>\n",
       "      <td>NL</td>\n",
       "      <td>1999</td>\n",
       "      <td>809</td>\n",
       "      <td>838</td>\n",
       "      <td>75</td>\n",
       "      <td>0.338</td>\n",
       "      <td>0.426</td>\n",
       "      <td>0.262</td>\n",
       "      <td>0</td>\n",
       "      <td>NaN</td>\n",
       "      <td>NaN</td>\n",
       "      <td>161</td>\n",
       "      <td>0.355</td>\n",
       "      <td>0.427</td>\n",
       "    </tr>\n",
       "    <tr>\n",
       "      <th>417</th>\n",
       "      <td>TBD</td>\n",
       "      <td>AL</td>\n",
       "      <td>1999</td>\n",
       "      <td>772</td>\n",
       "      <td>913</td>\n",
       "      <td>69</td>\n",
       "      <td>0.343</td>\n",
       "      <td>0.411</td>\n",
       "      <td>0.274</td>\n",
       "      <td>0</td>\n",
       "      <td>NaN</td>\n",
       "      <td>NaN</td>\n",
       "      <td>162</td>\n",
       "      <td>0.371</td>\n",
       "      <td>0.448</td>\n",
       "    </tr>\n",
       "    <tr>\n",
       "      <th>418</th>\n",
       "      <td>TEX</td>\n",
       "      <td>AL</td>\n",
       "      <td>1999</td>\n",
       "      <td>945</td>\n",
       "      <td>859</td>\n",
       "      <td>95</td>\n",
       "      <td>0.361</td>\n",
       "      <td>0.479</td>\n",
       "      <td>0.293</td>\n",
       "      <td>1</td>\n",
       "      <td>5.0</td>\n",
       "      <td>4.0</td>\n",
       "      <td>162</td>\n",
       "      <td>0.346</td>\n",
       "      <td>0.459</td>\n",
       "    </tr>\n",
       "    <tr>\n",
       "      <th>419</th>\n",
       "      <td>TOR</td>\n",
       "      <td>AL</td>\n",
       "      <td>1999</td>\n",
       "      <td>883</td>\n",
       "      <td>862</td>\n",
       "      <td>84</td>\n",
       "      <td>0.352</td>\n",
       "      <td>0.457</td>\n",
       "      <td>0.280</td>\n",
       "      <td>0</td>\n",
       "      <td>NaN</td>\n",
       "      <td>NaN</td>\n",
       "      <td>162</td>\n",
       "      <td>0.353</td>\n",
       "      <td>0.456</td>\n",
       "    </tr>\n",
       "  </tbody>\n",
       "</table>\n",
       "</div>"
      ],
      "text/plain": [
       "    Team League  Year  RunsScored  RunsAllowed  Wins  OnBasePercentage  \\\n",
       "415  SFG     NL  1999         872          831    86             0.356   \n",
       "416  STL     NL  1999         809          838    75             0.338   \n",
       "417  TBD     AL  1999         772          913    69             0.343   \n",
       "418  TEX     AL  1999         945          859    95             0.361   \n",
       "419  TOR     AL  1999         883          862    84             0.352   \n",
       "\n",
       "     SluggingPercentage  BattingAverage  Playoffs  RankSeason  RankPlayoffs  \\\n",
       "415               0.434           0.271         0         NaN           NaN   \n",
       "416               0.426           0.262         0         NaN           NaN   \n",
       "417               0.411           0.274         0         NaN           NaN   \n",
       "418               0.479           0.293         1         5.0           4.0   \n",
       "419               0.457           0.280         0         NaN           NaN   \n",
       "\n",
       "     GamesPlayed  OpponentOnBasePercentage  OpponentSluggingPercentage  \n",
       "415          162                     0.345                       0.423  \n",
       "416          161                     0.355                       0.427  \n",
       "417          162                     0.371                       0.448  \n",
       "418          162                     0.346                       0.459  \n",
       "419          162                     0.353                       0.456  "
      ]
     },
     "execution_count": 139,
     "metadata": {},
     "output_type": "execute_result"
    }
   ],
   "source": [
    "# Read data from file\n",
    "import pandas as pd\n",
    "df=pd.read_csv('baseball.csv').dropna(subset=['OpponentOnBasePercentage', 'OpponentSluggingPercentage'])\n",
    "df.tail()"
   ]
  },
  {
   "cell_type": "markdown",
   "metadata": {},
   "source": [
    "## Predict win percentage of a team based on its statistics and its opponents statistics"
   ]
  },
  {
   "cell_type": "code",
   "execution_count": 140,
   "metadata": {},
   "outputs": [],
   "source": [
    "from sklearn.model_selection import train_test_split\n",
    "X=df[['OnBasePercentage','SluggingPercentage','BattingAverage','OpponentOnBasePercentage', 'OpponentSluggingPercentage']]\n",
    "y=df['Wins']/df['GamesPlayed']\n",
    "X_train, X_test, y_train, y_test = train_test_split(X, y)"
   ]
  },
  {
   "cell_type": "markdown",
   "metadata": {},
   "source": [
    "###### Using a simple Linear Regression"
   ]
  },
  {
   "cell_type": "code",
   "execution_count": 141,
   "metadata": {},
   "outputs": [
    {
     "name": "stdout",
     "output_type": "stream",
     "text": [
      "Score on Train set: 0.8258602314346748 \n",
      "Score on Test set: 0.8562981147113335\n"
     ]
    }
   ],
   "source": [
    "from sklearn.linear_model import LinearRegression\n",
    "from sklearn.metrics.regression import r2_score\n",
    "import numpy as np\n",
    "\n",
    "li = LinearRegression().fit(X_train, y_train)\n",
    "print('Score on Train set:',li.score(X_train, y_train),'\\nScore on Test set:',li.score(X_test,y_test))"
   ]
  },
  {
   "cell_type": "markdown",
   "metadata": {},
   "source": [
    "###### Using Linear Regression with Polynomial Features\n",
    "Write a function that fits a polynomial LinearRegression model on the training data `X_train` for degrees 0 through 9. For each model compute the $R^2$ (coefficient of determination) regression score on the training data as well as the the test data"
   ]
  },
  {
   "cell_type": "code",
   "execution_count": 161,
   "metadata": {},
   "outputs": [
    {
     "data": {
      "text/html": [
       "<div>\n",
       "<style scoped>\n",
       "    .dataframe tbody tr th:only-of-type {\n",
       "        vertical-align: middle;\n",
       "    }\n",
       "\n",
       "    .dataframe tbody tr th {\n",
       "        vertical-align: top;\n",
       "    }\n",
       "\n",
       "    .dataframe thead th {\n",
       "        text-align: right;\n",
       "    }\n",
       "</style>\n",
       "<table border=\"1\" class=\"dataframe\">\n",
       "  <thead>\n",
       "    <tr style=\"text-align: right;\">\n",
       "      <th></th>\n",
       "      <th>R2 on Train Set</th>\n",
       "      <th>R2 on Test Set</th>\n",
       "      <th>Result</th>\n",
       "    </tr>\n",
       "    <tr>\n",
       "      <th>Degree of Polynomial Features</th>\n",
       "      <th></th>\n",
       "      <th></th>\n",
       "      <th></th>\n",
       "    </tr>\n",
       "  </thead>\n",
       "  <tbody>\n",
       "    <tr>\n",
       "      <th>0</th>\n",
       "      <td>0</td>\n",
       "      <td>-0.00403929</td>\n",
       "      <td>Underfitting</td>\n",
       "    </tr>\n",
       "    <tr>\n",
       "      <th>1</th>\n",
       "      <td>0.836949</td>\n",
       "      <td>0.830721</td>\n",
       "      <td>BEST MODEL</td>\n",
       "    </tr>\n",
       "    <tr>\n",
       "      <th>2</th>\n",
       "      <td>0.85066</td>\n",
       "      <td>0.820649</td>\n",
       "      <td></td>\n",
       "    </tr>\n",
       "    <tr>\n",
       "      <th>3</th>\n",
       "      <td>0.861398</td>\n",
       "      <td>0.779821</td>\n",
       "      <td></td>\n",
       "    </tr>\n",
       "    <tr>\n",
       "      <th>4</th>\n",
       "      <td>0.840274</td>\n",
       "      <td>0.384918</td>\n",
       "      <td></td>\n",
       "    </tr>\n",
       "    <tr>\n",
       "      <th>5</th>\n",
       "      <td>0.952101</td>\n",
       "      <td>-22.1989</td>\n",
       "      <td></td>\n",
       "    </tr>\n",
       "    <tr>\n",
       "      <th>6</th>\n",
       "      <td>1</td>\n",
       "      <td>-568.885</td>\n",
       "      <td></td>\n",
       "    </tr>\n",
       "    <tr>\n",
       "      <th>7</th>\n",
       "      <td>1</td>\n",
       "      <td>-619.712</td>\n",
       "      <td></td>\n",
       "    </tr>\n",
       "    <tr>\n",
       "      <th>8</th>\n",
       "      <td>1</td>\n",
       "      <td>-654.496</td>\n",
       "      <td>Overfitting</td>\n",
       "    </tr>\n",
       "    <tr>\n",
       "      <th>9</th>\n",
       "      <td>1</td>\n",
       "      <td>-675.883</td>\n",
       "      <td></td>\n",
       "    </tr>\n",
       "  </tbody>\n",
       "</table>\n",
       "</div>"
      ],
      "text/plain": [
       "                              R2 on Train Set R2 on Test Set        Result\n",
       "Degree of Polynomial Features                                             \n",
       "0                                           0    -0.00403929  Underfitting\n",
       "1                                    0.836949       0.830721    BEST MODEL\n",
       "2                                     0.85066       0.820649              \n",
       "3                                    0.861398       0.779821              \n",
       "4                                    0.840274       0.384918              \n",
       "5                                    0.952101       -22.1989              \n",
       "6                                           1       -568.885              \n",
       "7                                           1       -619.712              \n",
       "8                                           1       -654.496   Overfitting\n",
       "9                                           1       -675.883              "
      ]
     },
     "execution_count": 161,
     "metadata": {},
     "output_type": "execute_result"
    }
   ],
   "source": [
    "%precision 2\n",
    "from sklearn.linear_model import LinearRegression\n",
    "from sklearn.preprocessing import PolynomialFeatures\n",
    "from sklearn.metrics.regression import r2_score\n",
    "import numpy as np\n",
    "\n",
    "r2_table=pd.DataFrame(index=(i for i in range(10)), columns=['R2 on Train Set','R2 on Test Set'])\n",
    "r2_table.index.name='Degree of Polynomial Features'\n",
    "\n",
    "for degree in range(10):\n",
    "    poly = PolynomialFeatures(degree=degree)\n",
    "    X_po_train = poly.fit_transform(X_train)\n",
    "    li = LinearRegression().fit(X_po_train, y_train)\n",
    "    r2_table['R2 on Train Set'][degree]=li.score(X_po_train, y_train)\n",
    "    r2_table['R2 on Test Set'][degree]=li.score(poly.fit_transform(X_test),y_test)\n",
    "r2_table\n",
    "\n",
    "# Find underfitting, overfitting,best model\n",
    "r2_table['Result']=''\n",
    "for i in range (10):\n",
    "    under,over,best=r2_table['R2 on Train Set'].min(), r2_table['R2 on Train Set'].max(), r2_table['R2 on Test Set'].max()\n",
    "    if r2_table['R2 on Train Set'][i]==under: r2_table['Result'][i]='Underfitting'\n",
    "    if r2_table['R2 on Train Set'][i]==over: r2_table['Result'][i]='Overfitting'\n",
    "    if r2_table['R2 on Test Set'][i]==best: r2_table['Result'][i]='BEST MODEL'\n",
    "r2_table"
   ]
  },
  {
   "cell_type": "markdown",
   "metadata": {},
   "source": [
    "###### Using Lasso Regression with regularized parameters"
   ]
  },
  {
   "cell_type": "markdown",
   "metadata": {},
   "source": [
    "Training models on high degree polynomial features can result in overly complex models that overfit, so we often use regularized versions of the model to constrain model complexity, as we saw with Ridge and Lasso linear regression.\n",
    "\n",
    "For this part, train two models: a non-regularized LinearRegression model (default parameters) and a regularized Lasso Regression model (with parameters `alpha=`, `max_iter=`) both on polynomial features of degree 12. Return the $R^2$ score for both the LinearRegression and Lasso model's test sets."
   ]
  },
  {
   "cell_type": "code",
   "execution_count": 1581,
   "metadata": {},
   "outputs": [],
   "source": [
    "X=df['OnBasePercentage']/df['OpponentOnBasePercentage']\n",
    "y=df['Wins']/df['GamesPlayed']\n",
    "X_train, X_test, y_train, y_test = train_test_split(X, y)"
   ]
  },
  {
   "cell_type": "code",
   "execution_count": 1586,
   "metadata": {},
   "outputs": [
    {
     "name": "stderr",
     "output_type": "stream",
     "text": [
      "/anaconda3/lib/python3.7/site-packages/sklearn/linear_model/coordinate_descent.py:491: ConvergenceWarning: Objective did not converge. You might want to increase the number of iterations. Fitting data with very small alpha may cause precision problems.\n",
      "  ConvergenceWarning)\n"
     ]
    },
    {
     "data": {
      "text/plain": [
       "(0.5304406012804604, 0.8108453250235986)"
      ]
     },
     "execution_count": 1586,
     "metadata": {},
     "output_type": "execute_result"
    }
   ],
   "source": [
    "from sklearn.preprocessing import PolynomialFeatures\n",
    "from sklearn.linear_model import Lasso, LinearRegression\n",
    "from sklearn.metrics.regression import r2_score\n",
    "\n",
    "poly = PolynomialFeatures(degree=12)\n",
    "X_po_train = poly.fit_transform(np.array(X_train).reshape(-1,1))\n",
    "X_po_test = poly.fit_transform(np.array(X_test).reshape(-1,1))\n",
    "li = LinearRegression().fit(X_po_train, y_train)\n",
    "lasso = Lasso(alpha=0.00001,max_iter=100).fit(X_po_train, y_train)\n",
    "\n",
    "li.score(X_po_test,y_test), lasso.score(X_po_test,y_test)"
   ]
  }
 ],
 "metadata": {
  "kernelspec": {
   "display_name": "Python 3",
   "language": "python",
   "name": "python3"
  },
  "language_info": {
   "codemirror_mode": {
    "name": "ipython",
    "version": 3
   },
   "file_extension": ".py",
   "mimetype": "text/x-python",
   "name": "python",
   "nbconvert_exporter": "python",
   "pygments_lexer": "ipython3",
   "version": "3.7.0"
  },
  "toc": {
   "base_numbering": 1,
   "nav_menu": {},
   "number_sections": true,
   "sideBar": true,
   "skip_h1_title": false,
   "title_cell": "Table of Contents",
   "title_sidebar": "Contents",
   "toc_cell": false,
   "toc_position": {},
   "toc_section_display": true,
   "toc_window_display": false
  }
 },
 "nbformat": 4,
 "nbformat_minor": 2
}
