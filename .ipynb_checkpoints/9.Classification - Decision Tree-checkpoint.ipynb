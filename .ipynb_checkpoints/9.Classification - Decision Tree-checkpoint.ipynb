{
 "cells": [
  {
   "cell_type": "markdown",
   "metadata": {},
   "source": [
    "### Classification - Decision Tree"
   ]
  },
  {
   "cell_type": "code",
   "execution_count": 1,
   "metadata": {},
   "outputs": [
    {
     "data": {
      "text/html": [
       "<div>\n",
       "<style scoped>\n",
       "    .dataframe tbody tr th:only-of-type {\n",
       "        vertical-align: middle;\n",
       "    }\n",
       "\n",
       "    .dataframe tbody tr th {\n",
       "        vertical-align: top;\n",
       "    }\n",
       "\n",
       "    .dataframe thead th {\n",
       "        text-align: right;\n",
       "    }\n",
       "</style>\n",
       "<table border=\"1\" class=\"dataframe\">\n",
       "  <thead>\n",
       "    <tr style=\"text-align: right;\">\n",
       "      <th></th>\n",
       "      <th>Team</th>\n",
       "      <th>League</th>\n",
       "      <th>Year</th>\n",
       "      <th>RunsScored</th>\n",
       "      <th>RunsAllowed</th>\n",
       "      <th>Wins</th>\n",
       "      <th>OnBasePercentage</th>\n",
       "      <th>SluggingPercentage</th>\n",
       "      <th>BattingAverage</th>\n",
       "      <th>Playoffs</th>\n",
       "      <th>RankSeason</th>\n",
       "      <th>RankPlayoffs</th>\n",
       "      <th>GamesPlayed</th>\n",
       "      <th>OpponentOnBasePercentage</th>\n",
       "      <th>OpponentSluggingPercentage</th>\n",
       "    </tr>\n",
       "  </thead>\n",
       "  <tbody>\n",
       "    <tr>\n",
       "      <th>415</th>\n",
       "      <td>SFG</td>\n",
       "      <td>NL</td>\n",
       "      <td>1999</td>\n",
       "      <td>872</td>\n",
       "      <td>831</td>\n",
       "      <td>86</td>\n",
       "      <td>0.356</td>\n",
       "      <td>0.434</td>\n",
       "      <td>0.271</td>\n",
       "      <td>0</td>\n",
       "      <td>NaN</td>\n",
       "      <td>NaN</td>\n",
       "      <td>162</td>\n",
       "      <td>0.345</td>\n",
       "      <td>0.423</td>\n",
       "    </tr>\n",
       "    <tr>\n",
       "      <th>416</th>\n",
       "      <td>STL</td>\n",
       "      <td>NL</td>\n",
       "      <td>1999</td>\n",
       "      <td>809</td>\n",
       "      <td>838</td>\n",
       "      <td>75</td>\n",
       "      <td>0.338</td>\n",
       "      <td>0.426</td>\n",
       "      <td>0.262</td>\n",
       "      <td>0</td>\n",
       "      <td>NaN</td>\n",
       "      <td>NaN</td>\n",
       "      <td>161</td>\n",
       "      <td>0.355</td>\n",
       "      <td>0.427</td>\n",
       "    </tr>\n",
       "    <tr>\n",
       "      <th>417</th>\n",
       "      <td>TBD</td>\n",
       "      <td>AL</td>\n",
       "      <td>1999</td>\n",
       "      <td>772</td>\n",
       "      <td>913</td>\n",
       "      <td>69</td>\n",
       "      <td>0.343</td>\n",
       "      <td>0.411</td>\n",
       "      <td>0.274</td>\n",
       "      <td>0</td>\n",
       "      <td>NaN</td>\n",
       "      <td>NaN</td>\n",
       "      <td>162</td>\n",
       "      <td>0.371</td>\n",
       "      <td>0.448</td>\n",
       "    </tr>\n",
       "    <tr>\n",
       "      <th>418</th>\n",
       "      <td>TEX</td>\n",
       "      <td>AL</td>\n",
       "      <td>1999</td>\n",
       "      <td>945</td>\n",
       "      <td>859</td>\n",
       "      <td>95</td>\n",
       "      <td>0.361</td>\n",
       "      <td>0.479</td>\n",
       "      <td>0.293</td>\n",
       "      <td>1</td>\n",
       "      <td>5.0</td>\n",
       "      <td>4.0</td>\n",
       "      <td>162</td>\n",
       "      <td>0.346</td>\n",
       "      <td>0.459</td>\n",
       "    </tr>\n",
       "    <tr>\n",
       "      <th>419</th>\n",
       "      <td>TOR</td>\n",
       "      <td>AL</td>\n",
       "      <td>1999</td>\n",
       "      <td>883</td>\n",
       "      <td>862</td>\n",
       "      <td>84</td>\n",
       "      <td>0.352</td>\n",
       "      <td>0.457</td>\n",
       "      <td>0.280</td>\n",
       "      <td>0</td>\n",
       "      <td>NaN</td>\n",
       "      <td>NaN</td>\n",
       "      <td>162</td>\n",
       "      <td>0.353</td>\n",
       "      <td>0.456</td>\n",
       "    </tr>\n",
       "  </tbody>\n",
       "</table>\n",
       "</div>"
      ],
      "text/plain": [
       "    Team League  Year  RunsScored  RunsAllowed  Wins  OnBasePercentage  \\\n",
       "415  SFG     NL  1999         872          831    86             0.356   \n",
       "416  STL     NL  1999         809          838    75             0.338   \n",
       "417  TBD     AL  1999         772          913    69             0.343   \n",
       "418  TEX     AL  1999         945          859    95             0.361   \n",
       "419  TOR     AL  1999         883          862    84             0.352   \n",
       "\n",
       "     SluggingPercentage  BattingAverage  Playoffs  RankSeason  RankPlayoffs  \\\n",
       "415               0.434           0.271         0         NaN           NaN   \n",
       "416               0.426           0.262         0         NaN           NaN   \n",
       "417               0.411           0.274         0         NaN           NaN   \n",
       "418               0.479           0.293         1         5.0           4.0   \n",
       "419               0.457           0.280         0         NaN           NaN   \n",
       "\n",
       "     GamesPlayed  OpponentOnBasePercentage  OpponentSluggingPercentage  \n",
       "415          162                     0.345                       0.423  \n",
       "416          161                     0.355                       0.427  \n",
       "417          162                     0.371                       0.448  \n",
       "418          162                     0.346                       0.459  \n",
       "419          162                     0.353                       0.456  "
      ]
     },
     "execution_count": 1,
     "metadata": {},
     "output_type": "execute_result"
    }
   ],
   "source": [
    "# Read data from file\n",
    "import pandas as pd\n",
    "df=pd.read_csv('baseball.csv').dropna(subset=['OpponentOnBasePercentage', 'OpponentSluggingPercentage'])\n",
    "df.tail()"
   ]
  },
  {
   "cell_type": "code",
   "execution_count": 2,
   "metadata": {},
   "outputs": [],
   "source": [
    "from sklearn.model_selection import train_test_split\n",
    "X=df[['OnBasePercentage','SluggingPercentage','BattingAverage','OpponentOnBasePercentage', 'OpponentSluggingPercentage']]\n",
    "y=df['Playoffs']\n",
    "X_train, X_test, y_train, y_test = train_test_split(X, y)#set random_state also?"
   ]
  },
  {
   "cell_type": "markdown",
   "metadata": {},
   "source": [
    "###### Using `X_train` and `y_train` from the preceeding cell, train a DecisionTreeClassifier with default parameters. What are the 5 most important features found by the decision tree?\n",
    "\n",
    "The feature names are available in the `X_train.columns` property, and the order of the features in `X_train.columns` matches the order of the feature importance values in the classifier's `feature_importances_` property. \n",
    "\n",
    "*Print feature names in descending order of importance.*\n",
    "\n",
    "*Note: Need to set random_state in the DecisionTreeClassifier.*"
   ]
  },
  {
   "cell_type": "code",
   "execution_count": 3,
   "metadata": {},
   "outputs": [
    {
     "data": {
      "text/plain": [
       "['OpponentOnBasePercentage',\n",
       " 'OnBasePercentage',\n",
       " 'SluggingPercentage',\n",
       " 'BattingAverage',\n",
       " 'OpponentSluggingPercentage']"
      ]
     },
     "execution_count": 3,
     "metadata": {},
     "output_type": "execute_result"
    }
   ],
   "source": [
    "from sklearn.tree import DecisionTreeClassifier\n",
    "clf=DecisionTreeClassifier().fit(X_train,y_train)\n",
    "fi=pd.Series(clf.feature_importances_,index=X_train.columns).sort_values(ascending=False)\n",
    "list(fi[0:5].index)"
   ]
  },
  {
   "cell_type": "markdown",
   "metadata": {},
   "source": [
    "###### Support Vector Classifier\n",
    "We're going to use the `validation_curve` function in `sklearn.model_selection` to determine training and test scores for a Support Vector Classifier (`SVC`) with varying parameter values.  Recall that the validation_curve function, in addition to taking an initialized unfitted classifier object, takes a dataset as input and does its own internal train-test splits to compute results.\n",
    "\n",
    "The initialized unfitted classifier object we'll be using is a Support Vector Classifier with radial basis kernel.  So the first step is to create an `SVC` object with default parameters (i.e. `kernel='rbf', C=1`) and `random_state=0`. Recall that the kernel width of the RBF kernel is controlled using the `gamma` parameter.  \n",
    "\n",
    "With this classifier, and the dataset in X, y, explore the effect of `gamma` on classifier accuracy by using the `validation_curve` function to find the training and test scores for 6 values of `gamma` from `0.0001` to `10` (i.e. `np.logspace(-4,1,6)`). Recall that you can specify what scoring metric you want validation_curve to use by setting the \"scoring\" parameter.  In this case, we want to use \"accuracy\" as the scoring metric.\n",
    "\n",
    "For each level of `gamma`, `validation_curve` will fit 3 models on different subsets of the data, returning two 6x3 (6 levels of gamma x 3 fits per level) arrays of the scores for the training and test sets.\n",
    "\n",
    "Find the mean score across the three models for each level of `gamma` for both arrays, creating two arrays of length 6, and return a tuple with the two arrays.\n",
    "\n",
    "e.g.\n",
    "\n",
    "if one of your array of scores is\n",
    "\n",
    "    array([[ 0.5,  0.4,  0.6],\n",
    "           [ 0.7,  0.8,  0.7],\n",
    "           [ 0.9,  0.8,  0.8],\n",
    "           [ 0.8,  0.7,  0.8],\n",
    "           [ 0.7,  0.6,  0.6],\n",
    "           [ 0.4,  0.6,  0.5]])\n",
    "       \n",
    "it should then become\n",
    "\n",
    "    array([ 0.5,  0.73333333,  0.83333333,  0.76666667,  0.63333333, 0.5])\n",
    "\n",
    "*This function should return one tuple of numpy arrays `(training_scores, test_scores)`*"
   ]
  },
  {
   "cell_type": "code",
   "execution_count": 5,
   "metadata": {},
   "outputs": [
    {
     "data": {
      "text/plain": [
       "(array([0.72857143, 0.72857143, 0.72857143, 0.72857143, 0.72857143,\n",
       "        0.75      ]),\n",
       " array([0.72857143, 0.72857143, 0.72857143, 0.72857143, 0.72857143,\n",
       "        0.74285714]))"
      ]
     },
     "execution_count": 5,
     "metadata": {},
     "output_type": "execute_result"
    }
   ],
   "source": [
    "import numpy as np\n",
    "from sklearn.svm import SVC\n",
    "from sklearn.model_selection import validation_curve\n",
    "\n",
    "param_range = np.logspace(-4,1,6)\n",
    "\n",
    "svc = SVC(kernel='rbf', C=1, random_state=0)\n",
    "train_scores, test_scores = validation_curve(svc, X, y,\n",
    "                                            param_name='gamma',\n",
    "                                            param_range=param_range, cv=3,\n",
    "                                            scoring='accuracy')\n",
    "np.mean(train_scores,axis=1), np.mean(test_scores,axis=1)"
   ]
  },
  {
   "cell_type": "markdown",
   "metadata": {},
   "source": [
    "###### Based on the scores, what gamma value corresponds to a model that is underfitting (and has the worst test set accuracy)? What gamma value corresponds to a model that is overfitting (and has the worst test set accuracy)? What choice of gamma would be the best choice for a model with good generalization performance on this dataset (high accuracy on both training and test set)? \n",
    "\n",
    "Hint: Try plotting the scores from above to visualize the relationship between gamma and accuracy.\n",
    "\n",
    "*This function should return one tuple with the degree values in this order: `(Underfitting, Overfitting, Good_Generalization)`"
   ]
  },
  {
   "cell_type": "code",
   "execution_count": null,
   "metadata": {},
   "outputs": [],
   "source": [
    "0.0001, 10, 0.0001"
   ]
  }
 ],
 "metadata": {
  "kernelspec": {
   "display_name": "Python 3",
   "language": "python",
   "name": "python3"
  },
  "language_info": {
   "codemirror_mode": {
    "name": "ipython",
    "version": 3
   },
   "file_extension": ".py",
   "mimetype": "text/x-python",
   "name": "python",
   "nbconvert_exporter": "python",
   "pygments_lexer": "ipython3",
   "version": "3.7.0"
  },
  "toc": {
   "base_numbering": 1,
   "nav_menu": {},
   "number_sections": true,
   "sideBar": true,
   "skip_h1_title": false,
   "title_cell": "Table of Contents",
   "title_sidebar": "Contents",
   "toc_cell": false,
   "toc_position": {},
   "toc_section_display": true,
   "toc_window_display": false
  }
 },
 "nbformat": 4,
 "nbformat_minor": 2
}
