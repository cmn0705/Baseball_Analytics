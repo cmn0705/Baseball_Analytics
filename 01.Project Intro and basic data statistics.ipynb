{
 "cells": [
  {
   "cell_type": "markdown",
   "metadata": {},
   "source": [
    "# Baseball Sport Analytics\n",
    "\n",
    "The data set contains baseball results 1962-2012. Stats like on-base percentage (OBP) and slugging percentage (SLG) were very important when it came to scoring runs, however they were largely undervalued by most scouts at the time. By proving the important of these stats, Beane and DePodesta could recruit these players on a small budget. \n",
    "\n",
    "Each record is the result of a team in that year. The variables are as follows:\n",
    "\n",
    "+ Team\n",
    "+ League\n",
    "+ Year\n",
    "+ RunsScored\n",
    "+ RunsAllowed\n",
    "+ Wins\n",
    "+ OnBasePercentage\n",
    "+ SluggingPercentage\n",
    "+ BattingAverage\n",
    "+ Playoffs\n",
    "+ RankSeason\n",
    "+ RankPlayoffs\n",
    "+ GamesPlayed\n",
    "+ OpponentOnBasePercentage\n",
    "+ OpponentSluggingPercentage\n",
    "\n",
    "Data was downloaded at https://www.kaggle.com/wduckett/moneyball-mlb-stats-19622012.\n",
    "\n",
    "+ How does a team make the playoffs?\n",
    "+ How does a team win more games?\n",
    "+ How does a team score more runs?"
   ]
  },
  {
   "cell_type": "code",
   "execution_count": 1,
   "metadata": {},
   "outputs": [
    {
     "data": {
      "text/html": [
       "<div>\n",
       "<style scoped>\n",
       "    .dataframe tbody tr th:only-of-type {\n",
       "        vertical-align: middle;\n",
       "    }\n",
       "\n",
       "    .dataframe tbody tr th {\n",
       "        vertical-align: top;\n",
       "    }\n",
       "\n",
       "    .dataframe thead th {\n",
       "        text-align: right;\n",
       "    }\n",
       "</style>\n",
       "<table border=\"1\" class=\"dataframe\">\n",
       "  <thead>\n",
       "    <tr style=\"text-align: right;\">\n",
       "      <th></th>\n",
       "      <th>Team</th>\n",
       "      <th>League</th>\n",
       "      <th>Year</th>\n",
       "      <th>RunsScored</th>\n",
       "      <th>RunsAllowed</th>\n",
       "      <th>Wins</th>\n",
       "      <th>OnBasePercentage</th>\n",
       "      <th>SluggingPercentage</th>\n",
       "      <th>BattingAverage</th>\n",
       "      <th>Playoffs</th>\n",
       "      <th>RankSeason</th>\n",
       "      <th>RankPlayoffs</th>\n",
       "      <th>GamesPlayed</th>\n",
       "      <th>OpponentOnBasePercentage</th>\n",
       "      <th>OpponentSluggingPercentage</th>\n",
       "    </tr>\n",
       "  </thead>\n",
       "  <tbody>\n",
       "    <tr>\n",
       "      <th>1227</th>\n",
       "      <td>PHI</td>\n",
       "      <td>NL</td>\n",
       "      <td>1962</td>\n",
       "      <td>705</td>\n",
       "      <td>759</td>\n",
       "      <td>81</td>\n",
       "      <td>0.330</td>\n",
       "      <td>0.390</td>\n",
       "      <td>0.260</td>\n",
       "      <td>0</td>\n",
       "      <td>NaN</td>\n",
       "      <td>NaN</td>\n",
       "      <td>161</td>\n",
       "      <td>NaN</td>\n",
       "      <td>NaN</td>\n",
       "    </tr>\n",
       "    <tr>\n",
       "      <th>1228</th>\n",
       "      <td>PIT</td>\n",
       "      <td>NL</td>\n",
       "      <td>1962</td>\n",
       "      <td>706</td>\n",
       "      <td>626</td>\n",
       "      <td>93</td>\n",
       "      <td>0.321</td>\n",
       "      <td>0.394</td>\n",
       "      <td>0.268</td>\n",
       "      <td>0</td>\n",
       "      <td>NaN</td>\n",
       "      <td>NaN</td>\n",
       "      <td>161</td>\n",
       "      <td>NaN</td>\n",
       "      <td>NaN</td>\n",
       "    </tr>\n",
       "    <tr>\n",
       "      <th>1229</th>\n",
       "      <td>SFG</td>\n",
       "      <td>NL</td>\n",
       "      <td>1962</td>\n",
       "      <td>878</td>\n",
       "      <td>690</td>\n",
       "      <td>103</td>\n",
       "      <td>0.341</td>\n",
       "      <td>0.441</td>\n",
       "      <td>0.278</td>\n",
       "      <td>1</td>\n",
       "      <td>1.0</td>\n",
       "      <td>2.0</td>\n",
       "      <td>165</td>\n",
       "      <td>NaN</td>\n",
       "      <td>NaN</td>\n",
       "    </tr>\n",
       "    <tr>\n",
       "      <th>1230</th>\n",
       "      <td>STL</td>\n",
       "      <td>NL</td>\n",
       "      <td>1962</td>\n",
       "      <td>774</td>\n",
       "      <td>664</td>\n",
       "      <td>84</td>\n",
       "      <td>0.335</td>\n",
       "      <td>0.394</td>\n",
       "      <td>0.271</td>\n",
       "      <td>0</td>\n",
       "      <td>NaN</td>\n",
       "      <td>NaN</td>\n",
       "      <td>163</td>\n",
       "      <td>NaN</td>\n",
       "      <td>NaN</td>\n",
       "    </tr>\n",
       "    <tr>\n",
       "      <th>1231</th>\n",
       "      <td>WSA</td>\n",
       "      <td>AL</td>\n",
       "      <td>1962</td>\n",
       "      <td>599</td>\n",
       "      <td>716</td>\n",
       "      <td>60</td>\n",
       "      <td>0.308</td>\n",
       "      <td>0.373</td>\n",
       "      <td>0.250</td>\n",
       "      <td>0</td>\n",
       "      <td>NaN</td>\n",
       "      <td>NaN</td>\n",
       "      <td>162</td>\n",
       "      <td>NaN</td>\n",
       "      <td>NaN</td>\n",
       "    </tr>\n",
       "  </tbody>\n",
       "</table>\n",
       "</div>"
      ],
      "text/plain": [
       "     Team League  Year  RunsScored  RunsAllowed  Wins  OnBasePercentage  \\\n",
       "1227  PHI     NL  1962         705          759    81             0.330   \n",
       "1228  PIT     NL  1962         706          626    93             0.321   \n",
       "1229  SFG     NL  1962         878          690   103             0.341   \n",
       "1230  STL     NL  1962         774          664    84             0.335   \n",
       "1231  WSA     AL  1962         599          716    60             0.308   \n",
       "\n",
       "      SluggingPercentage  BattingAverage  Playoffs  RankSeason  RankPlayoffs  \\\n",
       "1227               0.390           0.260         0         NaN           NaN   \n",
       "1228               0.394           0.268         0         NaN           NaN   \n",
       "1229               0.441           0.278         1         1.0           2.0   \n",
       "1230               0.394           0.271         0         NaN           NaN   \n",
       "1231               0.373           0.250         0         NaN           NaN   \n",
       "\n",
       "      GamesPlayed  OpponentOnBasePercentage  OpponentSluggingPercentage  \n",
       "1227          161                       NaN                         NaN  \n",
       "1228          161                       NaN                         NaN  \n",
       "1229          165                       NaN                         NaN  \n",
       "1230          163                       NaN                         NaN  \n",
       "1231          162                       NaN                         NaN  "
      ]
     },
     "execution_count": 1,
     "metadata": {},
     "output_type": "execute_result"
    }
   ],
   "source": [
    "# Read data from file\n",
    "import pandas as pd\n",
    "df=pd.read_csv('baseball.csv')\n",
    "df.tail()"
   ]
  },
  {
   "cell_type": "code",
   "execution_count": 4,
   "metadata": {},
   "outputs": [
    {
     "name": "stdout",
     "output_type": "stream",
     "text": [
      "Number of teams:\n"
     ]
    },
    {
     "data": {
      "text/plain": [
       "39"
      ]
     },
     "execution_count": 4,
     "metadata": {},
     "output_type": "execute_result"
    }
   ],
   "source": [
    "print('Number of teams:')\n",
    "len(set(df.Team))"
   ]
  },
  {
   "cell_type": "code",
   "execution_count": 3,
   "metadata": {},
   "outputs": [
    {
     "name": "stdout",
     "output_type": "stream",
     "text": [
      "Average runs-scored of each team/season, displaying best teams\n"
     ]
    },
    {
     "data": {
      "text/plain": [
       "Team\n",
       "COL    831.0\n",
       "ANA    788.0\n",
       "BOS    781.0\n",
       "TEX    773.0\n",
       "NYY    771.0\n",
       "Name: RunsScored, dtype: float64"
      ]
     },
     "execution_count": 3,
     "metadata": {},
     "output_type": "execute_result"
    }
   ],
   "source": [
    "print('Average runs-scored of each team/season, displaying best teams')\n",
    "df.groupby('Team').mean().round().sort_values('RunsScored', ascending=False )['RunsScored'].head()"
   ]
  }
 ],
 "metadata": {
  "kernelspec": {
   "display_name": "Python 3",
   "language": "python",
   "name": "python3"
  },
  "language_info": {
   "codemirror_mode": {
    "name": "ipython",
    "version": 3
   },
   "file_extension": ".py",
   "mimetype": "text/x-python",
   "name": "python",
   "nbconvert_exporter": "python",
   "pygments_lexer": "ipython3",
   "version": "3.7.0"
  },
  "toc": {
   "base_numbering": 1,
   "nav_menu": {},
   "number_sections": true,
   "sideBar": true,
   "skip_h1_title": false,
   "title_cell": "Table of Contents",
   "title_sidebar": "Contents",
   "toc_cell": false,
   "toc_position": {},
   "toc_section_display": true,
   "toc_window_display": false
  }
 },
 "nbformat": 4,
 "nbformat_minor": 2
}
